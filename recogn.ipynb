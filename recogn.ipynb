{
  "nbformat": 4,
  "nbformat_minor": 0,
  "metadata": {
    "colab": {
      "provenance": [],
      "authorship_tag": "ABX9TyOvxWZyhPjdgA0A9gBbsrmg",
      "include_colab_link": true
    },
    "kernelspec": {
      "name": "python3",
      "display_name": "Python 3"
    },
    "language_info": {
      "name": "python"
    }
  },
  "cells": [
    {
      "cell_type": "markdown",
      "metadata": {
        "id": "view-in-github",
        "colab_type": "text"
      },
      "source": [
        "<a href=\"https://colab.research.google.com/github/rakaplay/cnn_recogn/blob/main/recogn.ipynb\" target=\"_parent\"><img src=\"https://colab.research.google.com/assets/colab-badge.svg\" alt=\"Open In Colab\"/></a>"
      ]
    },
    {
      "cell_type": "markdown",
      "source": [
        "#####**Это простая модель обучена для распознавания всего трех вещей:**\n",
        "#### - Очков;\n",
        "#### - Салфеток;\n",
        "#### - Блока зарядки."
      ],
      "metadata": {
        "id": "BU92PfoFE7Nr"
      }
    },
    {
      "cell_type": "markdown",
      "source": [
        "### Следующий код скачает и распакует датасет:"
      ],
      "metadata": {
        "id": "s3VcVIsSHT51"
      }
    },
    {
      "cell_type": "code",
      "source": [
        "import requests\n",
        "response = requests.get(\"https://nekofile.eu.org/2cb5d44c214e47e68365azq0f\")\n",
        "file = open(\"data_and_model.tar\", \"wb\")\n",
        "file.write(response.content)\n",
        "!tar -xf data_and_model.tar\n",
        "file.close()\n",
        "del response"
      ],
      "metadata": {
        "id": "Z8grnrxoHTRA"
      },
      "execution_count": null,
      "outputs": []
    },
    {
      "cell_type": "markdown",
      "source": [
        "### А при помощи кода ниже можно обучить модель:"
      ],
      "metadata": {
        "id": "z9y-Bh6GI2sz"
      }
    },
    {
      "cell_type": "code",
      "source": [
        "# библиотеки\n",
        "import json\n",
        "import cv2\n",
        "import os\n",
        "import numpy as np\n",
        "import tensorflow as tf\n",
        "from tensorflow.keras.preprocessing.image import ImageDataGenerator\n",
        "from tensorflow.keras.utils import to_categorical"
      ],
      "metadata": {
        "id": "AThvrpB8I7vo"
      },
      "execution_count": null,
      "outputs": []
    },
    {
      "cell_type": "code",
      "source": [
        "# загрузка\n",
        "\n",
        "# Чтение JSON файла\n",
        "with open('data.json', 'r') as f:\n",
        "    data = json.load(f)\n",
        "\n",
        "# Параметры\n",
        "img_size = (128, 128)\n",
        "num_classes = len(data)\n",
        "\n",
        "# Функция для загрузки изображений и меток\n",
        "def load_data(data):\n",
        "    images = []\n",
        "    labels = []\n",
        "    for class_id, items in data.items():\n",
        "        for item in items:\n",
        "            img_path, label = item\n",
        "            img = cv2.imread(img_path, cv2.IMREAD_GRAYSCALE)\n",
        "            img = cv2.resize(img, img_size)\n",
        "            images.append(img)\n",
        "            labels.append(int(label))\n",
        "    return np.array(images), np.array(labels)\n",
        "\n",
        "# Загрузка данных\n",
        "images, labels = load_data(data)\n",
        "labels -= 1\n",
        "# Нормализация изображений\n",
        "images = images.astype('float32') / 255.0\n",
        "print(images[0])\n",
        "images = np.expand_dims(images, axis=-1)\n",
        "\n",
        "# Преобразование меток в one-hot encoding\n",
        "labels = to_categorical(labels, num_classes=num_classes)\n",
        "\n",
        "# Разделение данных на тренировочные и валидационные наборы\n",
        "from sklearn.model_selection import train_test_split\n",
        "X_train, y_train = images, labels"
      ],
      "metadata": {
        "colab": {
          "base_uri": "https://localhost:8080/"
        },
        "id": "KFiJpt4qJAVj",
        "outputId": "d580294e-7411-4c3d-e8c3-8886ab66fb07"
      },
      "execution_count": null,
      "outputs": [
        {
          "output_type": "stream",
          "name": "stdout",
          "text": [
            "[[0.83137256 0.8392157  0.83137256 ... 0.56078434 0.53333336 0.49019608]\n",
            " [0.8235294  0.8352941  0.80784315 ... 0.69803923 0.6313726  0.5764706 ]\n",
            " [0.7411765  0.7529412  0.7607843  ... 0.74509805 0.7372549  0.7490196 ]\n",
            " ...\n",
            " [0.53333336 0.54509807 0.5411765  ... 0.6        0.6156863  0.6156863 ]\n",
            " [0.54901963 0.54901963 0.5411765  ... 0.6039216  0.61960787 0.62352943]\n",
            " [0.5372549  0.54509807 0.54509807 ... 0.5058824  0.47843137 0.44705883]]\n"
          ]
        }
      ]
    },
    {
      "cell_type": "code",
      "source": [
        "\n",
        "# Создание модели и обучение\n",
        "model = tf.keras.models.Sequential([\n",
        "    tf.keras.layers.Conv2D(64, (3, 3), activation=\"relu\", input_shape=(128, 128, 1)),\n",
        "    tf.keras.layers.MaxPooling2D((2, 2)),\n",
        "    tf.keras.layers.Conv2D(64, (3, 3), activation=\"gelu\"),\n",
        "    tf.keras.layers.MaxPooling2D((2, 2)),\n",
        "    tf.keras.layers.Conv2D(64, (3, 3), activation=\"relu\"),\n",
        "    tf.keras.layers.MaxPooling2D((2, 2)),\n",
        "    tf.keras.layers.Flatten(),\n",
        "    tf.keras.layers.Dense(32, activation='relu'),\n",
        "    tf.keras.layers.Dense(num_classes, activation='softmax')\n",
        "])\n",
        "\n",
        "# Компиляция модели\n",
        "model.compile(optimizer='adam', loss='categorical_crossentropy', metrics=['accuracy'])\n",
        "model.summary()\n",
        "# Обучение модели\n",
        "model.fit(X_train, y_train, epochs=30, batch_size=96)\n",
        "model.save('recognizer.keras') # сохранение"
      ],
      "metadata": {
        "id": "w17IGhyaJHcf"
      },
      "execution_count": null,
      "outputs": []
    },
    {
      "cell_type": "code",
      "source": [
        "# Функция для предсказания класса объекта на изображении\n",
        "def predict_class(image_path):\n",
        "    # Чтение изображения\n",
        "    img = cv2.imread(image_path, cv2.IMREAD_GRAYSCALE)\n",
        "    names = {0: 'ochki', 1: 'zaryadka', 2: 'salfetki'}\n",
        "    # Изменение размера изображения\n",
        "    img = cv2.resize(img, img_size)\n",
        "\n",
        "    # Нормализация изображения\n",
        "    img = img.astype('float32') / 255.0\n",
        "\n",
        "    # Добавление оси для соответствия форме входных данных модели\n",
        "    img = np.expand_dims(img, axis=-1)\n",
        "    img = np.expand_dims(img, axis=0)\n",
        "\n",
        "    # Предсказание\n",
        "    prediction = model.predict(img)\n",
        "    # Получение класса с наибольшей вероятностью\n",
        "    class_id = np.argmax(prediction)\n",
        "    preds = list(prediction.reshape(3))\n",
        "    preds_dict = dict()\n",
        "    for i in range(3):\n",
        "        preds_dict[names[i]] = round(preds[i], 4)\n",
        "    predicted_class_name = {0: 'ochki', 1: 'zaryadka', 2: 'salfetki'}[class_id]\n",
        "    return predicted_class_name, preds_dict"
      ],
      "metadata": {
        "id": "_HTtZZVTE8n5"
      },
      "execution_count": null,
      "outputs": []
    },
    {
      "cell_type": "code",
      "source": [
        "# Пример использования функции для предсказания класса.\n",
        "# Если выдает zaryadka, то все правильно.\n",
        "img_size = (128, 128)\n",
        "image_path = \"class3/3.png\"\n",
        "predicted_class = predict_class(image_path)\n",
        "print(f'Предсказанный класс: {predicted_class[0]}.\\nВероятности:\\n{predicted_class[1]}')"
      ],
      "metadata": {
        "colab": {
          "base_uri": "https://localhost:8080/"
        },
        "id": "d14gXtBYJMSu",
        "outputId": "95bf1692-003c-43c3-a701-0e609d1132a7"
      },
      "execution_count": null,
      "outputs": [
        {
          "output_type": "stream",
          "name": "stdout",
          "text": [
            "1/1 [==============================] - 0s 25ms/step\n",
            "Предсказанный класс: salfetki.\n",
            "Вероятности:\n",
            "{'ochki': 0.0, 'zaryadka': 0.0, 'salfetki': 1.0}\n"
          ]
        }
      ]
    },
    {
      "cell_type": "markdown",
      "source": [
        "### Ниже предоставлен интерактивный режим на OpenCV. Правда, он не работает в Colab, нужно проверять на своем ПК."
      ],
      "metadata": {
        "id": "Mvk3AWm1GU4j"
      }
    },
    {
      "cell_type": "code",
      "source": [
        "\n",
        "# Загрузка предобученной модели\n",
        "model = tf.keras.models.load_model('pretrain.keras')\n",
        "\n",
        "# Функция для предсказания класса объекта на изображении\n",
        "def predict_class(image):\n",
        "    # Изменение размера изображения\n",
        "    img = cv2.resize(image, img_size)\n",
        "\n",
        "    # Нормализация изображения\n",
        "    img = img.astype('float32') / 255.0\n",
        "\n",
        "    # Добавление оси для соответствия форме входных данных модели\n",
        "    img = np.expand_dims(img, axis=-1)\n",
        "    img = np.expand_dims(img, axis=0)\n",
        "\n",
        "    # Предсказание\n",
        "    prediction = model.predict(img)\n",
        "    # Получение класса с наибольшей вероятностью\n",
        "    class_id = np.argmax(prediction)\n",
        "\n",
        "    return class_id\n",
        "\n",
        "# Захват видео с камеры\n",
        "cap = cv2.VideoCapture(0)\n",
        "\n",
        "while True:\n",
        "    # Чтение кадра\n",
        "    ret, frame = cap.read()\n",
        "\n",
        "    if not ret:\n",
        "        break\n",
        "\n",
        "    # Преобразование кадра в оттенки серого\n",
        "    gray = cv2.cvtColor(frame, cv2.COLOR_BGR2GRAY)\n",
        "\n",
        "    # Предсказание класса\n",
        "    predicted_class = predict_class(gray)\n",
        "    predicted_class = {0: 'ochki', 1: 'zaryadka', 2: 'salfetki'}[predicted_class]\n",
        "    # Отображение предсказанного класса на кадре\n",
        "    cv2.putText(frame, f'This is {predicted_class}', (10, 30), cv2.FONT_HERSHEY_SIMPLEX, 1, (255, 255, 255), 2)\n",
        "\n",
        "    # Показ кадра\n",
        "    cv2.imshow('Frame', frame)\n",
        "\n",
        "    # Выход из цикла при нажатии клавиши 'q'\n",
        "    if cv2.waitKey(1) & 0xFF == ord('q'):\n",
        "        break\n",
        "\n",
        "# Освобождение ресурсов\n",
        "cap.release()\n",
        "cv2.destroyAllWindows()"
      ],
      "metadata": {
        "id": "NjdONwUfFDTM"
      },
      "execution_count": null,
      "outputs": []
    },
    {
      "cell_type": "markdown",
      "source": [
        "### Ниже есть реализация для Google Colab:"
      ],
      "metadata": {
        "id": "Di3-zMoQcwZE"
      }
    },
    {
      "cell_type": "code",
      "source": [
        "import tensorflow as tf\n",
        "import numpy as np\n",
        "import cv2\n",
        "from google.colab.patches import cv2_imshow\n",
        "\n",
        "# Замените 'pretrain.keras' на путь к вашей предобученной модели\n",
        "model = tf.keras.models.load_model('pretrain.keras')\n",
        "img_size = (128, 128)\n",
        "\n",
        "def predict_class(image):\n",
        "    img = cv2.resize(image, img_size)\n",
        "    img = img.astype('float32') / 255.0\n",
        "    img = np.expand_dims(img, axis=-1)\n",
        "    img = np.expand_dims(img, axis=0)\n",
        "    prediction = model.predict(img)\n",
        "    class_id = np.argmax(prediction)\n",
        "    return class_id\n",
        "from IPython.display import display, Javascript\n",
        "from google.colab.output import eval_js\n",
        "from base64 import b64decode\n",
        "\n",
        "def take_photo(filename='photo.jpg', quality=0.2):\n",
        "  js = Javascript('''\n",
        "    async function takePhoto(quality) {\n",
        "      const div = document.createElement('div');\n",
        "      const capture = document.createElement('button');\n",
        "      capture.style.width = \"5cm\"\n",
        "      capture.style.padding = \"20px 0px\";\n",
        "      capture.style.borderRadius = \"20px\";\n",
        "      capture.style.hover=\"{padding: 30px 0px}\"\n",
        "      capture.style.border = \"1px solid #000\"\n",
        "      capture.textContent = 'Сделать фото';\n",
        "      div.appendChild(capture);\n",
        "\n",
        "      const video = document.createElement('video');\n",
        "      video.style.borderRadius = \"20px\";\n",
        "      video.style.width = \"5cm\";\n",
        "      video.style.display = 'block';\n",
        "      const stream = await navigator.mediaDevices.getUserMedia({video: true});\n",
        "\n",
        "      document.body.appendChild(div);\n",
        "      div.appendChild(video);\n",
        "      video.srcObject = stream;\n",
        "      await video.play();\n",
        "\n",
        "      // Resize the output to fit the video element.\n",
        "      google.colab.output.setIframeHeight(document.documentElement.scrollHeight, true);\n",
        "\n",
        "      // Wait for Capture to be clicked.\n",
        "      await new Promise((resolve) => capture.onclick = resolve);\n",
        "\n",
        "      const canvas = document.createElement('canvas');\n",
        "      canvas.width = video.videoWidth;\n",
        "      canvas.height = video.videoHeight;\n",
        "      canvas.getContext('2d').drawImage(video, 0, 0);\n",
        "      stream.getVideoTracks()[0].stop();\n",
        "      div.remove();\n",
        "      return canvas.toDataURL('image/jpeg', quality);\n",
        "    }\n",
        "    ''')\n",
        "  display(js)\n",
        "  data = eval_js('takePhoto({})'.format(quality))\n",
        "  binary = b64decode(data.split(',')[1])\n",
        "  with open(filename, 'wb') as f:\n",
        "    f.write(binary)\n",
        "  return filename\n",
        "filename = take_photo()\n",
        "image = cv2.imread(filename, cv2.IMREAD_GRAYSCALE)\n",
        "\n",
        "# Предсказание класса\n",
        "predicted_class = predict_class(image)\n",
        "predicted_class = {0: 'очки', 1: 'зарядка', 2: 'салфетки'}[predicted_class]\n",
        "\n",
        "# Отображение результата\n",
        "print(f'This is {predicted_class}')"
      ],
      "metadata": {
        "colab": {
          "base_uri": "https://localhost:8080/",
          "height": 72
        },
        "id": "M4OjxGWCc0w2",
        "outputId": "eac58f01-9b11-4041-e1cc-8a7ac1881ec4"
      },
      "execution_count": null,
      "outputs": [
        {
          "output_type": "display_data",
          "data": {
            "text/plain": [
              "<IPython.core.display.Javascript object>"
            ],
            "application/javascript": [
              "\n",
              "    async function takePhoto(quality) {\n",
              "      const div = document.createElement('div');\n",
              "      const capture = document.createElement('button');\n",
              "      capture.style.width = \"5cm\"\n",
              "      capture.style.padding = \"20px 0px\";\n",
              "      capture.style.borderRadius = \"20px\";\n",
              "      capture.style.hover=\"{padding: 30px 0px}\"\n",
              "      capture.style.border = \"1px solid #000\"\n",
              "      capture.textContent = 'Сделать фото';\n",
              "      div.appendChild(capture);\n",
              "\n",
              "      const video = document.createElement('video');\n",
              "      video.style.borderRadius = \"20px\";\n",
              "      video.style.width = \"5cm\";\n",
              "      video.style.display = 'block';\n",
              "      const stream = await navigator.mediaDevices.getUserMedia({video: true});\n",
              "\n",
              "      document.body.appendChild(div);\n",
              "      div.appendChild(video);\n",
              "      video.srcObject = stream;\n",
              "      await video.play();\n",
              "\n",
              "      // Resize the output to fit the video element.\n",
              "      google.colab.output.setIframeHeight(document.documentElement.scrollHeight, true);\n",
              "\n",
              "      // Wait for Capture to be clicked.\n",
              "      await new Promise((resolve) => capture.onclick = resolve);\n",
              "\n",
              "      const canvas = document.createElement('canvas');\n",
              "      canvas.width = video.videoWidth;\n",
              "      canvas.height = video.videoHeight;\n",
              "      canvas.getContext('2d').drawImage(video, 0, 0);\n",
              "      stream.getVideoTracks()[0].stop();\n",
              "      div.remove();\n",
              "      return canvas.toDataURL('image/jpeg', quality);\n",
              "    }\n",
              "    "
            ]
          },
          "metadata": {}
        },
        {
          "output_type": "stream",
          "name": "stdout",
          "text": [
            "1/1 [==============================] - 0s 94ms/step\n",
            "This is зарядка\n"
          ]
        }
      ]
    },
    {
      "cell_type": "code",
      "source": [],
      "metadata": {
        "id": "e3pZ0rwgBvld"
      },
      "execution_count": null,
      "outputs": []
    }
  ]
}